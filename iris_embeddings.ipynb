{
 "cells": [
  {
   "cell_type": "markdown",
   "metadata": {},
   "source": [
    "### Fine-tuning word embeddings for Iris.ai\n",
    "See \"resources/W2V model training.pdf\" for problem definition"
   ]
  },
  {
   "cell_type": "code",
   "execution_count": 1,
   "metadata": {},
   "outputs": [],
   "source": [
    "from collections import Counter\n",
    "from copy import deepcopy\n",
    "import itertools as it\n",
    "import json\n",
    "import pickle\n",
    "import tempfile\n",
    "import torch\n",
    "import time\n",
    "\n",
    "import gensim\n",
    "from gensim.models import Word2Vec, KeyedVectors\n",
    "from matplotlib import pyplot as plt\n",
    "import numpy as np\n",
    "from PIL import Image, ImageDraw\n",
    "\n",
    "from resources.pip_code_snippet import (\n",
    "    make_fingerprint_matrix, calculate_pip_distance_of_arrays, calculate_pip_distance)\n",
    "from utils import matrix_to_w2v, topn_overlap"
   ]
  },
  {
   "cell_type": "code",
   "execution_count": 2,
   "metadata": {},
   "outputs": [],
   "source": [
    "with open('resources/ref_vocab_matrix.pkl', 'rb') as f:\n",
    "    ref_vocab_matrix = pickle.load(f)\n",
    "    \n",
    "with open('resources/ref_vocab.json') as f:\n",
    "    ref_vocab = json.load(f)\n",
    "    \n",
    "with open('resources/dataset.json') as f:\n",
    "    dataset = json.load(f)"
   ]
  },
  {
   "cell_type": "markdown",
   "metadata": {},
   "source": [
    "###  The PIP metric"
   ]
  },
  {
   "cell_type": "markdown",
   "metadata": {},
   "source": [
    "Before optimizing a metric its worth testing its behavior in different situations. <br/>\n",
    "\n",
    "Pairwise Inner Product (**PIP**) measures a distance between between two sets of word embeddings A and B by comparing the cosine similarity of\n",
    "every word pair (w1, w2) in A versus in B.\n",
    "\n",
    "Pros: <br/>\n",
    "\\- Invariant to unitary transforms such as rotation and simmetry  <br/>\n",
    "\\- Correctly identifies when embddings are almost completely identical\n",
    "\n",
    "Cons: <br/>\n",
    "\\- Influenced by the global geometry of the embeddings, not relative positions of words <br/>\n",
    "\\- Can be a poor proxy for semantic similarity <br/>\n",
    "\\- Doesn't objectively measure embeddings quality, only compares them to another reference model </br>\n",
    "\n",
    "**We'll only measure PIP relative to the ground truth ref_vocab_matrix.** <br/>"
   ]
  },
  {
   "cell_type": "markdown",
   "metadata": {},
   "source": [
    "### Inspecting a minimal 2d  model\n",
    "Let's see the relationship between 3 models: <br/>\n",
    "1) Simple embeddigns of 6 words in 2d space (reference model) <br/>\n",
    "2) Transformed version of 1) that keeps much of its structure <br/>\n",
    "3) Random vectors with similar global geometry <br/>"
   ]
  },
  {
   "cell_type": "code",
   "execution_count": 3,
   "metadata": {},
   "outputs": [],
   "source": [
    "vocab = ['a', 'b', 'c', 'A', 'B', 'C']\n",
    "embeddings = np.array([\n",
    "    [-2. , 14. ], [-1.5, 15.5], [-1. , 14. ],\n",
    "    [ 1. , 16. ], [ 1.5, 17.5], [ 2. , 16. ],\n",
    "])\n",
    "\n",
    "transformed_embeddings = embeddings.copy()\n",
    "transformed_embeddings[:, 0] *= 2.5\n",
    "transformed_embeddings[:, 1] -= 10\n",
    "\n",
    "random_embeddings = np.random.normal(0, 0.8, 12).reshape([6, 2])\n",
    "random_embeddings[:,1] += 13.5\n",
    "\n",
    "ref_model = matrix_to_w2v(embeddings, vocab)\n",
    "transformed_model = matrix_to_w2v(transformed_embeddings, vocab)\n",
    "random_model = matrix_to_w2v(random_embeddings, vocab)"
   ]
  },
  {
   "cell_type": "code",
   "execution_count": 4,
   "metadata": {},
   "outputs": [
    {
     "data": {
      "image/png": "[encoded data removed]",
      "text/plain": [
       "<Figure size 432x288 with 1 Axes>"
      ]
     },
     "metadata": {
      "needs_background": "light"
     },
     "output_type": "display_data"
    },
    {
     "data": {
      "image/png": "[encoded data removed]",
      "text/plain": [
       "<Figure size 432x288 with 1 Axes>"
      ]
     },
     "metadata": {
      "needs_background": "light"
     },
     "output_type": "display_data"
    },
    {
     "data": {
      "image/png": "[encoded data removed]",
      "text/plain": [
       "<Figure size 432x288 with 1 Axes>"
      ]
     },
     "metadata": {
      "needs_background": "light"
     },
     "output_type": "display_data"
    }
   ],
   "source": [
    "def plot_points(points, title=''):\n",
    "    fig, ax = plt.subplots()\n",
    "    plt.xlim((-7, 7)), plt.ylim((0, 20)), plt.title(title)\n",
    "    ax.scatter(points[:,0], points[:,1])\n",
    "    for i, word in enumerate(vocab):\n",
    "        ax.annotate(word, (points[:,0][i] + 0.2, points[:,1][i] + 0.2))\n",
    "    plt.show()\n",
    "    \n",
    "plot_points(embeddings, title='Reference')\n",
    "plot_points(transformed_embeddings, title='Transformed')\n",
    "plot_points(random_embeddings, title='Random')"
   ]
  },
  {
   "cell_type": "markdown",
   "metadata": {},
   "source": [
    "As we see from the plot the transformed model preserves most of the structure (and thus information) from the reference one, and the last model is random by construction. <br/>\n",
    "Here's the PIP metric scores:"
   ]
  },
  {
   "cell_type": "code",
   "execution_count": 5,
   "metadata": {},
   "outputs": [
    {
     "name": "stdout",
     "output_type": "stream",
     "text": [
      "PIP transformed:  0.481\n",
      "PIP random:       0.116\n"
     ]
    }
   ],
   "source": [
    "print('PIP transformed:  {:.3f}\\n'\n",
    "      'PIP random:       {:.3f}'.format(\n",
    "      calculate_pip_distance_of_arrays(embeddings, transformed_embeddings),\n",
    "      calculate_pip_distance_of_arrays(embeddings, random_embeddings)))"
   ]
  },
  {
   "cell_type": "markdown",
   "metadata": {},
   "source": [
    "##### PIP considers the random model similar to the reference one, and the transformed model  very different from the reference one.\n",
    "This suggests that PIP is sensitive to the global geometry of the embeddings, like the average cos similarity between any two words. This is irrespective of the relative positions of words to one another, which is often the main information carrier in word embeddings"
   ]
  },
  {
   "cell_type": "markdown",
   "metadata": {},
   "source": [
    "Using other metrics, like directly comparing word similarity or doing vector arithmetic, we can verify that **only the transformed model preserves any information**, as expected."
   ]
  },
  {
   "cell_type": "code",
   "execution_count": 6,
   "metadata": {},
   "outputs": [
    {
     "name": "stdout",
     "output_type": "stream",
     "text": [
      "Most similar to \"a\", according to: \n",
      "  reference model  : [('b', 0.9989684820175171), ('c', 0.9975096583366394), ('A', 0.979200005531311)] \n",
      "  transformed model: [('b', 0.9560322165489197), ('c', 0.943600058555603), ('A', 0.27630746364593506)] \n",
      "  random model     : [('C', 0.9999374151229858), ('b', 0.9998238682746887), ('A', 0.9964320659637451)]\n"
     ]
    }
   ],
   "source": [
    "# Inspect most similar words\n",
    "\n",
    "target_word = 'a'\n",
    "print('Most similar to \"{}\", according to: \\n'\n",
    "      '  reference model  : {} \\n'\n",
    "      '  transformed model: {} \\n'\n",
    "      '  random model     : {}'.format(\n",
    "        target_word,\n",
    "        ref_model.most_similar(target_word, topn=3),\n",
    "        transformed_model.most_similar(target_word, topn=3),\n",
    "        random_model.most_similar(target_word, topn=3)))"
   ]
  },
  {
   "cell_type": "code",
   "execution_count": 7,
   "metadata": {},
   "outputs": [
    {
     "name": "stdout",
     "output_type": "stream",
     "text": [
      "Embeddings of (b - a + A): \n",
      "\n",
      "reference model:   ('B', 0.9999999403953552) \n",
      "transformed model: ('B', 0.9999999403953552) \n",
      "random model:      ('A', 0.9999980330467224) \n",
      "\n"
     ]
    },
    {
     "name": "stderr",
     "output_type": "stream",
     "text": [
      "/home/danko/miniconda3/envs/gensim/lib/python3.7/site-packages/ipykernel_launcher.py:6: DeprecationWarning: Call to deprecated `wv` (Attribute will be removed in 4.0.0, use self instead).\n",
      "  \n"
     ]
    }
   ],
   "source": [
    "# Try vector arithmetics\n",
    "\n",
    "b_minus_a_plus_A = [\n",
    "    m.similar_by_vector(\n",
    "        (m.wv['b'] - m.wv['a'] + m.wv['A']))[0]\n",
    "    for m in (ref_model, transformed_model, random_model)]\n",
    "\n",
    "print('Embeddings of (b - a + A): \\n\\n'\n",
    "      'reference model:   {} \\n'\n",
    "      'transformed model: {} \\n'\n",
    "      'random model:      {} \\n'\n",
    "      ''.format(*b_minus_a_plus_A))"
   ]
  },
  {
   "cell_type": "markdown",
   "metadata": {},
   "source": [
    "## Baselines\n",
    "We'll consider a few different models <br/>\n",
    "\\- A random model <br/>\n",
    "\\- Embeddings trained from scratch <br/>\n",
    "\\- mat2vec - word embeddings trained on material science literature [doi: 10.1038/s41586-019-1335-8, Tshitoyan et al. 2019] <br/>\n",
    "\\- mat2vec finetuned on the provided dataset <br/> <br/>\n",
    "We can also keep track of the topn_overlap metric, which measures the average overlap in `model_1.most_similar(word)` and `model_2.most_similar(word)`"
   ]
  },
  {
   "cell_type": "code",
   "execution_count": 4,
   "metadata": {},
   "outputs": [],
   "source": [
    "from utils import preprocess_dataset\n",
    "\n",
    "corpus = preprocess_dataset(dataset)\n",
    "ref_model = matrix_to_w2v(ref_vocab_matrix, ref_vocab)"
   ]
  },
  {
   "cell_type": "code",
   "execution_count": 5,
   "metadata": {},
   "outputs": [
    {
     "name": "stdout",
     "output_type": "stream",
     "text": [
      "Random model\n",
      "PIP: 0.364 \n",
      "overlap: 0.053\n"
     ]
    }
   ],
   "source": [
    "d = 200\n",
    "random_vectors = np.random.normal(0, 1, len(ref_vocab) * d).reshape((len(ref_vocab), d))\n",
    "random_model = matrix_to_w2v(random_vectors, ref_vocab)\n",
    "\n",
    "print('Random model\\nPIP: {:.3f} \\noverlap: {:.3f}'.format(\n",
    "    calculate_pip_distance(ref_vocab, ref_vocab_matrix, random_model),\n",
    "    topn_overlap(ref_model, random_model, ref_vocab)))"
   ]
  },
  {
   "cell_type": "code",
   "execution_count": 6,
   "metadata": {},
   "outputs": [
    {
     "name": "stdout",
     "output_type": "stream",
     "text": [
      "Model_from_scratch\n",
      "PIP: 0.274 \n",
      "overlap: 0.331\n"
     ]
    }
   ],
   "source": [
    "model_from_scratch = Word2Vec(\n",
    "    corpus + [ref_vocab] * 3,\n",
    "    size=200, window=13, min_count=3, workers=4)\n",
    "model_from_scratch.train(corpus, total_examples=len(corpus), epochs=3)\n",
    "\n",
    "print('Model_from_scratch\\nPIP: {:.3f} \\noverlap: {:.3f}'.format(\n",
    "    calculate_pip_distance(ref_vocab, ref_vocab_matrix, model_from_scratch),\n",
    "    topn_overlap(ref_model, model_from_scratch, ref_vocab)))"
   ]
  },
  {
   "cell_type": "code",
   "execution_count": 7,
   "metadata": {},
   "outputs": [
    {
     "name": "stdout",
     "output_type": "stream",
     "text": [
      "mat2vec\n",
      "PIP: 0.232 \n",
      "overlap: 0.375\n"
     ]
    }
   ],
   "source": [
    "model_path = 'mat2vec/pretrained_embeddings'\n",
    "mat2vec = Word2Vec.load(model_path)\n",
    "\n",
    "print('mat2vec\\nPIP: {:.3f} \\noverlap: {:.3f}'.format(\n",
    "    calculate_pip_distance(ref_vocab, ref_vocab_matrix, mat2vec),\n",
    "    topn_overlap(ref_model, mat2vec, ref_vocab)))"
   ]
  },
  {
   "cell_type": "code",
   "execution_count": 16,
   "metadata": {},
   "outputs": [
    {
     "name": "stdout",
     "output_type": "stream",
     "text": [
      "Finetuned mat2vec\n",
      "PIP: 0.266 \n",
      "overlap: 0.345\n"
     ]
    }
   ],
   "source": [
    "model_path = 'mat2vec/pretrained_embeddings'\n",
    "mat2vec_finetuned = Word2Vec.load(model_path)\n",
    "mat2vec_finetuned.build_vocab(sentences=corpus + [ref_vocab]*5, update=True)\n",
    "mat2vec_finetuned = Word2Vec.load(model_path)\n",
    "mat2vec_finetuned.train(corpus, total_examples=len(corpus), epochs=3)\n",
    "\n",
    "print('Finetuned mat2vec\\nPIP: {:.3f} \\noverlap: {:.3f}'.format(\n",
    "    calculate_pip_distance(ref_vocab, matrix, mat2vec),\n",
    "    topn_overlap(ref_model, model_from_scratch, ref_vocab)))"
   ]
  },
  {
   "cell_type": "markdown",
   "metadata": {},
   "source": [
    "#### It's worth noting that mat2vec is a very strong baseline, having sensible domain-specific predictions out of the box, which are similar to the reference ones, as seen below."
   ]
  },
  {
   "cell_type": "code",
   "execution_count": 48,
   "metadata": {},
   "outputs": [
    {
     "name": "stdout",
     "output_type": "stream",
     "text": [
      "Words most similar to \"ferrite\" in:\n",
      "mat2vec:   ['austenite', 'pearlite', 'martensite', 'bainite', 'martensitic', 'carbide']\n",
      "ref_model: ['martensite', 'bainite', 'pearlite', 'microstructure', 'carbide', 'austenite']\n"
     ]
    },
    {
     "name": "stderr",
     "output_type": "stream",
     "text": [
      "/home/danko/miniconda3/envs/gensim/lib/python3.7/site-packages/ipykernel_launcher.py:2: DeprecationWarning: Call to deprecated `most_similar` (Method will be removed in 4.0.0, use self.wv.most_similar() instead).\n",
      "  \n"
     ]
    }
   ],
   "source": [
    "# Displaying similarity to words only in the ref_vocab\n",
    "\n",
    "target_word = 'ferrite'\n",
    "similar = mat2vec.most_similar(target_word, topn=10000)\n",
    "print('Words most similar to \"{}\" in:'.format(target_word))\n",
    "print('mat2vec:  ', [s[0] for s in similar if s[0] in ref_vocab][:6])\n",
    "print('ref_model:', [w for w, s in ref_model.most_similar(target_word, topn=6)])"
   ]
  },
  {
   "cell_type": "markdown",
   "metadata": {},
   "source": [
    "### Optimizing PIP\n",
    "Let's consider in what conditions PIP will give falsely optimistic or pesimistic evaluation of embeddings. <br/>\n",
    "<br/>\n",
    "We can check how far we can reduce PIP by stretching the embedding space of a random model (thus modifying the average cos between vectors). <br/>\n",
    "Note that we'll apply **the same transform to every vector** so the relative word positions remain random.\n",
    "\n",
    "For a vector *v*, lets define a transform, parametrized by vectors p, w, b: <br/>\n",
    "T(v) = (v\\*\\*p) * w + b <br/>\n",
    "This a little more than a linear transform with 'p' adding a slight curvature (although a purely linear transform will have almost the same effect)\n",
    "This transformation is differentiable so we can easily optimize it."
   ]
  },
  {
   "cell_type": "code",
   "execution_count": 17,
   "metadata": {},
   "outputs": [],
   "source": [
    "dim = 100\n",
    "random_vectors = np.random.normal(0, 1, len(ref_vocab) * dim).reshape((len(ref_vocab), dim))\n",
    "random_model = matrix_to_w2v(random_vectors, ref_vocab)"
   ]
  },
  {
   "cell_type": "code",
   "execution_count": 18,
   "metadata": {},
   "outputs": [
    {
     "name": "stdout",
     "output_type": "stream",
     "text": [
      "PIP of random model: 0.372\n"
     ]
    }
   ],
   "source": [
    "print('PIP of random model: {:.3f}'.format(\n",
    "        calculate_pip_distance(ref_vocab, ref_vocab_matrix, random_model)))"
   ]
  },
  {
   "cell_type": "code",
   "execution_count": 19,
   "metadata": {},
   "outputs": [
    {
     "data": {
      "image/png": "[encoded data removed]",
      "text/plain": [
       "<Figure size 432x288 with 1 Axes>"
      ]
     },
     "metadata": {
      "needs_background": "light"
     },
     "output_type": "display_data"
    },
    {
     "name": "stdout",
     "output_type": "stream",
     "text": [
      "PIP after transform: 0.175\n"
     ]
    }
   ],
   "source": [
    "from optimize_global_geometry import optimize_global_geometry\n",
    "\n",
    "_, transform, pip_vals = optimize_global_geometry(random_vectors, ref_vocab_matrix)\n",
    "\n",
    "plt.plot(pip_vals)\n",
    "plt.show()\n",
    "print('PIP after transform: {:.3f}'.format(np.mean(pip_vals[-10:])))"
   ]
  },
  {
   "cell_type": "markdown",
   "metadata": {},
   "source": [
    "Let's inspect the effect of dimensionality on the metric."
   ]
  },
  {
   "cell_type": "code",
   "execution_count": 21,
   "metadata": {},
   "outputs": [
    {
     "name": "stdout",
     "output_type": "stream",
     "text": [
      "PIP after transform (dim=20): 0.260\n",
      "PIP after transform (dim=200): 0.161\n",
      "PIP after transform (dim=2000): 0.120\n",
      "PIP after transform (dim=20000): 0.100\n",
      "PIP after transform (dim=200000): 0.082\n"
     ]
    }
   ],
   "source": [
    "for dim in [20, 200, 2000, 20000, 200000]:\n",
    "    random_vectors = np.random.normal(0, 1, len(ref_vocab) * dim).reshape((len(ref_vocab), dim))\n",
    "    random_model = matrix_to_w2v(random_vectors, ref_vocab)\n",
    "\n",
    "    params, transform, pip_vals = optimize_global_geometry(random_vectors, ref_vocab_matrix)\n",
    "    print('PIP after transform (dim={}): {:.3f}'.format(dim, np.mean(pip_vals[-10:])))"
   ]
  },
  {
   "cell_type": "markdown",
   "metadata": {},
   "source": [
    "The last model has PIP multiple times lower than that of mat2vec and has dimensionality of 200 000, which seems unreasonably high. <br/>\n",
    "Note that so far we are **NOT** overfitting the ref_matrix, in fact we are not even it fitting the slightest. The relative positions of word vectors are random and the top_n similarity still doesn't overlap with the ref model's better than random."
   ]
  },
  {
   "cell_type": "code",
   "execution_count": 12,
   "metadata": {},
   "outputs": [
    {
     "name": "stdout",
     "output_type": "stream",
     "text": [
      "Transformed model topn overlap: 0.095\n"
     ]
    }
   ],
   "source": [
    "transformed_matrix = transform(torch.tensor(random_vectors).cuda())\n",
    "transformed_model = matrix_to_w2v(transformed_matrix, ref_vocab)\n",
    "\n",
    "print('Transformed model topn overlap: {:.3f}'.format(\n",
    "    topn_overlap(ref_model, transformed_model, ref_vocab)))"
   ]
  },
  {
   "cell_type": "markdown",
   "metadata": {},
   "source": [
    "During training of embeddings, normally we don't manually control the subset of the space which we want the embeddings to occupy. If we try to pick hyperparameters that diractly minimize PIP, we'll probably end up with the ones that accidentally happen to be closest to the global geomtry of the ref model, wether or not they fit the dataset well, since its effect is so large. <br/>"
   ]
  },
  {
   "cell_type": "markdown",
   "metadata": {},
   "source": [
    "Clearly, further improvements from the ones we achieved with the random model can happen if the actual word relations begin to match the ground truth model. <br/>"
   ]
  },
  {
   "cell_type": "markdown",
   "metadata": {},
   "source": [
    "The next thing we can try is training a model, then optimizing its global geometry, and seeing how much the PIP improves over the random baseline. This way, we can compare models only \"in their best shape\", ignoring the random aspects of the global structure that arise at train time. Therefore, we may attribute any improvements to the meaningful similarities in the embeddings. <br/>\n",
    "\n",
    "However, for this to be a valid approach, we need to know that fitting PIP with respect to the ref_model will translate to all other words. <br/>\n",
    "We can check this by doing cross-validation on our ref_matrix"
   ]
  },
  {
   "cell_type": "code",
   "execution_count": 13,
   "metadata": {},
   "outputs": [],
   "source": [
    "# 2-fold cross-validation split for simplicity\n",
    "# We want to track if the validation results are correlated in both directions\n",
    "def cross_validate_geom_optim(vectors, ref_vocab_matrix):\n",
    "    split = ref_vocab_matrix.shape[0] // 2\n",
    "    _, transform, pip_vals = optimize_global_geometry(vectors[:split], ref_vocab_matrix[:split])\n",
    "    transformed_matrix = transform(torch.tensor(vectors).cuda())\n",
    "    train_1 = np.mean(pip_vals[-10:])\n",
    "    val_1 = calculate_pip_distance_of_arrays(\n",
    "        ref_vocab_matrix[split:], transformed_matrix[split:].detach().cpu().numpy())\n",
    "    \n",
    "    _, transform, pip_vals = optimize_global_geometry(vectors[split:], ref_vocab_matrix[split:])\n",
    "    transformed_matrix = transform(torch.tensor(vectors).cuda())\n",
    "    train_2 = np.mean(pip_vals[-10:])\n",
    "    val_2 = calculate_pip_distance_of_arrays(\n",
    "        ref_vocab_matrix[:split], transformed_matrix[:split].detach().cpu().numpy())\n",
    "    \n",
    "    return train_1, train_2, val_1, val_2"
   ]
  },
  {
   "cell_type": "markdown",
   "metadata": {},
   "source": [
    "We'll try both a random and a train model to see if the PIP values translate to validation dataset for any dimensionality of the embeddings.\n",
    "For simplicity, we'll simply split the reference matrix to two equal parts for train and validation"
   ]
  },
  {
   "cell_type": "code",
   "execution_count": 116,
   "metadata": {},
   "outputs": [],
   "source": [
    "# Cross-validate random model with different dimensionality of the model\n",
    "\n",
    "dims = [20, 50, 100, 200, 500, 1000, 2000]\n",
    "trains_1, trains_2, vals_1, vals_2 = [], [], [], []\n",
    "for dim in dims:\n",
    "    random_vectors = np.random.normal(0, 1, len(ref_vocab) * dim).reshape((len(ref_vocab), dim))\n",
    "    t1, t2, v1, v2 = cross_validate_geom_optim(random_vectors, ref_vocab_matrix)\n",
    "    trains_1.append(t1)\n",
    "    trains_2.append(t2)\n",
    "    vals_1.append(v1)\n",
    "    vals_2.append(v2)"
   ]
  },
  {
   "cell_type": "code",
   "execution_count": 117,
   "metadata": {},
   "outputs": [
    {
     "data": {
      "text/plain": [
       "[<matplotlib.lines.Line2D at 0x7f948cdf7860>]"
      ]
     },
     "execution_count": 117,
     "metadata": {},
     "output_type": "execute_result"
    },
    {
     "data": {
      "image/png": "[encoded data removed]",
      "text/plain": [
       "<Figure size 432x288 with 1 Axes>"
      ]
     },
     "metadata": {
      "needs_background": "light"
     },
     "output_type": "display_data"
    }
   ],
   "source": [
    "plt.plot(trains_1)\n",
    "plt.plot(trains_2)\n",
    "plt.plot(vals_1)\n",
    "plt.plot(vals_2)"
   ]
  },
  {
   "cell_type": "markdown",
   "metadata": {},
   "source": [
    "Running this multiple times, we don't see clear correlation between dimensionality and validation performance."
   ]
  },
  {
   "cell_type": "code",
   "execution_count": 183,
   "metadata": {},
   "outputs": [
    {
     "name": "stdout",
     "output_type": "stream",
     "text": [
      "164.7999620437622\n"
     ]
    },
    {
     "data": {
      "image/png": "[encoded data removed]",
      "text/plain": [
       "<Figure size 432x288 with 1 Axes>"
      ]
     },
     "metadata": {
      "needs_background": "light"
     },
     "output_type": "display_data"
    }
   ],
   "source": [
    "# Cross-validate model train from scratch with different dimensions\n",
    "\n",
    "dims = [20, 50, 100, 200, 500]\n",
    "trains_1, trains_2, vals_1, vals_2 = [], [], [], []\n",
    "overlaps = []\n",
    "for dim in dims:\n",
    "    window, min_count = 13, 3\n",
    "    model_from_scratch = Word2Vec(\n",
    "        corpus +\n",
    "        [ref_vocab] * min_count,\n",
    "        size=dim, window=window, min_count=min_count, workers=4)\n",
    "    model_from_scratch.train(corpus, total_examples=len(corpus), epochs=3)  # train\n",
    "    vectors = np.array([model_from_scratch.wv[w] for w in ref_vocab])\n",
    "    \n",
    "    t1, t2, v1, v2 = cross_validate_geom_optim(vectors, ref_vocab_matrix)\n",
    "    trains_1.append(t1)\n",
    "    trains_2.append(t2)\n",
    "    vals_1.append(v1)\n",
    "    vals_2.append(v2)\n",
    "    overlaps.append(topn_overlap(model_from_scratch, ref_model, ref_vocab))\n",
    "\n",
    "plt.plot(trains_1)\n",
    "plt.plot(trains_2)\n",
    "plt.plot(vals_1)\n",
    "plt.plot(vals_2)"
   ]
  },
  {
   "cell_type": "markdown",
   "metadata": {},
   "source": [
    "Again, there's no clear evidence evidence that the dimensionality correlates with the validation pip or with the topn_overlap metric."
   ]
  },
  {
   "cell_type": "markdown",
   "metadata": {},
   "source": [
    "So far it looks like (at least for a ref_matrix of the given size): <br/>\n",
    "\\- fitting the global geometry of the embedding to a small ref matrix doesn't consistently translate to low pip on the validation part of the matrix  <br/>\n",
    "\\- not fitting the global geometry to the ref matrix yields results that can be outperformed by random noise, making the metric unreliable <br/>\n",
    "\\- the chosen metric doesn't always correlate with other, more straightforward ways to compare embeddings, like top_n similarity overlap (again because of the random model achieving pip much lower than mat2vec)"
   ]
  },
  {
   "cell_type": "markdown",
   "metadata": {},
   "source": [
    "Despite all these caveats, we can still try picking hyperparameters that perform best on the validation set. However, depending on the downstream task, it won't be surprising if the resulting model is outperformed by the raw mat2vec baseline or its simplest finetuned version without modifications."
   ]
  },
  {
   "cell_type": "code",
   "execution_count": null,
   "metadata": {},
   "outputs": [],
   "source": []
  },
  {
   "cell_type": "code",
   "execution_count": 50,
   "metadata": {},
   "outputs": [],
   "source": [
    "import optunity\n",
    "\n",
    "def target_fn(size, window, min_count):\n",
    "    size, window, min_count = int(size), int(window), int(min_count)\n",
    "    model = Word2Vec(\n",
    "        corpus + [ref_vocab] * min_count,\n",
    "        size=size, window=window, min_count=min_count, workers=2)\n",
    "    model.train(corpus, total_examples=len(corpus), epochs=3)\n",
    "    vectors = np.array([model.wv[w] for w in ref_vocab])\n",
    "    _, _, v1, v2 = cross_validate_geom_optim(vectors, ref_vocab_matrix)\n",
    "    return (v1 + v2) / 2\n",
    "\n",
    "logs = {}\n",
    "solver = 'particle swarm'\n",
    "pars, details, _ = optunity.minimize(\n",
    "    target_fn, num_evals=100,\n",
    "    size=[20, 2000],\n",
    "    window=[3, 30],\n",
    "    min_count=[1, 20],\n",
    "    solver_name=solver)\n",
    "logs = np.array([details.call_log['args']['size'],\n",
    "                 details.call_log['args']['window'],\n",
    "                 details.call_log['args']['min_count']])"
   ]
  },
  {
   "cell_type": "code",
   "execution_count": 51,
   "metadata": {},
   "outputs": [
    {
     "name": "stdout",
     "output_type": "stream",
     "text": [
      "0.2313166515841633\n"
     ]
    }
   ],
   "source": [
    "# best pip found:\n",
    "details.optimum"
   ]
  },
  {
   "cell_type": "code",
   "execution_count": null,
   "metadata": {},
   "outputs": [],
   "source": []
  }
 ],
 "metadata": {
  "kernelspec": {
   "display_name": "Python 3",
   "language": "python",
   "name": "python3"
  },
  "language_info": {
   "codemirror_mode": {
    "name": "ipython",
    "version": 3
   },
   "file_extension": ".py",
   "mimetype": "text/x-python",
   "name": "python",
   "nbconvert_exporter": "python",
   "pygments_lexer": "ipython3",
   "version": "3.7.0"
  }
 },
 "nbformat": 4,
 "nbformat_minor": 4
}
